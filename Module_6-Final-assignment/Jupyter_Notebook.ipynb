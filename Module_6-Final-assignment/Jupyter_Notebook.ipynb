{
 "cells": [
  {
   "cell_type": "markdown",
   "id": "317066b6-6abe-4ecc-96a0-1b3d10b23204",
   "metadata": {},
   "source": [
    "# Exercise 1: Create a Jupyter Notebook \n",
    "# Create a new Jupyter notebook called DataScienceEcosystem.ipynb"
   ]
  },
  {
   "cell_type": "code",
   "execution_count": 12,
   "id": "14eecf06-948a-4b2a-b425-bf756b70e191",
   "metadata": {},
   "outputs": [],
   "source": [
    "# Exercise 2: Create markdown cell with title of the notebook\n",
    "# Create a markdown cell with the title Data Science Tools and Ecosystem using H1 style heading."
   ]
  },
  {
   "cell_type": "markdown",
   "id": "eb77fbbd-68d3-43f1-adce-8fb0e327fde4",
   "metadata": {},
   "source": [
    "# Data Science Tools and Ecosystem"
   ]
  },
  {
   "cell_type": "code",
   "execution_count": null,
   "id": "642f9bf8-9bfe-4f1a-8c2c-07173ecd89b7",
   "metadata": {},
   "outputs": [],
   "source": []
  },
  {
   "cell_type": "code",
   "execution_count": null,
   "id": "03026612-0a92-4794-b33e-62d6b803076c",
   "metadata": {},
   "outputs": [],
   "source": []
  },
  {
   "cell_type": "code",
   "execution_count": 9,
   "id": "9457cd63-ea44-455c-87ff-6d2e9e93ea63",
   "metadata": {},
   "outputs": [],
   "source": [
    "# Exercise 3 - Create a markdown cell for an introduction\n",
    "# Write an introductory sentence about the notebook such as the follows:"
   ]
  },
  {
   "cell_type": "markdown",
   "id": "788ca922-6cb9-4273-a36c-394c18ecf824",
   "metadata": {},
   "source": [
    "In this notebook, Data Science Tools and Ecosystem are summarized. "
   ]
  },
  {
   "cell_type": "code",
   "execution_count": 35,
   "id": "21e7d079-b64a-4018-8994-6464ef95911a",
   "metadata": {},
   "outputs": [],
   "source": [
    "#Exercise 4 - Create a markdown cell to list data science languages\n",
    "\n",
    "# Start the cell with an overview line such as:\n",
    "\n",
    "# Some of the popular languages that Data Scientists use are:\n",
    "# Then create an ordered list (i.e. numbered) listing 3 (or more) commonly used languages for data science.\n"
   ]
  },
  {
   "cell_type": "code",
   "execution_count": null,
   "id": "e8bc8054-c8a2-4097-b0bd-73bd6a6ac371",
   "metadata": {},
   "outputs": [],
   "source": []
  },
  {
   "cell_type": "markdown",
   "id": "a05af523-e5f3-45bd-908a-b8a4783cd722",
   "metadata": {},
   "source": [
    "In this notebook, Data Science Tools and Exosystem are summarized. "
   ]
  },
  {
   "cell_type": "markdown",
   "id": "a049a439-4e8a-4114-bd2d-af502b2443dd",
   "metadata": {},
   "source": [
    "Some of the popular languages that Data Scientists use are: \n",
    "1. Python\n",
    "2. Scala\n",
    "3. SQL\n",
    "4. R\n",
    "5. Java\n",
    "6. C++\n",
    "7. JavaScript\n",
    "8. Julia"
   ]
  },
  {
   "cell_type": "code",
   "execution_count": 38,
   "id": "72e796ee-9362-4c4f-b804-dcd29b8701e2",
   "metadata": {},
   "outputs": [],
   "source": [
    "#Exercise 5 - Create a markdown cell to list data science libraries\n",
    "#Add an overview line to the cell like:\n",
    "#Some of the commonly used libraries used by Data Scientists include:\n",
    "#Below this line add an ordered list listing 3 (or more) commonly used libraries in data science."
   ]
  },
  {
   "cell_type": "markdown",
   "id": "c66080e5-7d5f-496a-8559-ba4279c7ca4a",
   "metadata": {},
   "source": [
    "Some of the commonly used libraries used by Data Scientists include: "
   ]
  },
  {
   "cell_type": "markdown",
   "id": "01f43fb1-b7da-484e-ac9c-d7ff54d58ff5",
   "metadata": {},
   "source": [
    " - Pandas (Python library);\n",
    " - NumPy (Python library);\n",
    " - SciPy (Python library);\n",
    " - Matplotlib (Python library);\n",
    " - Seaborn (Python library);\n",
    " - TensorFlow (Python library); and\n",
    " - Scikit-learn (Python library)."
   ]
  },
  {
   "cell_type": "code",
   "execution_count": 42,
   "id": "726c5ddf-e9fc-4783-a9c3-7708983a6edd",
   "metadata": {},
   "outputs": [],
   "source": [
    "#Exercise 6 - Create a markdown cell with a table of Data Science tools\n",
    "#Create a single column table in this cell with the first row containing the header Data Science Tools.\n",
    "#The subsequent three rows in the table should indicate three development environment open source tools used in data science."
   ]
  },
  {
   "cell_type": "markdown",
   "id": "7ed66945-ba2a-4561-8dcd-90089b846b1e",
   "metadata": {},
   "source": [
    "||Data Science Tools|\n",
    "|--|-----------------|\n",
    "|1|JupyterLab|\n",
    "|2|JupyterLite|\n",
    "|3|VS Code|\n",
    "|4|Google colaboratory|\n",
    "|5|RStudio|\n"
   ]
  },
  {
   "cell_type": "code",
   "execution_count": 47,
   "id": "c140ace9-4403-41e2-bcc7-4ecdc60180a8",
   "metadata": {},
   "outputs": [],
   "source": [
    "#Exercise 7 - Create a markdown cell introducing arithmetic expression examples\n",
    "#Add a line in this cell with H3 style heading with text like:"
   ]
  },
  {
   "cell_type": "markdown",
   "id": "147111d5-a272-409a-a008-3314c94cd63d",
   "metadata": {},
   "source": [
    "### Below are a few examples of evaluating arithmetic expressions in Python."
   ]
  },
  {
   "cell_type": "code",
   "execution_count": 62,
   "id": "473593a8-b7a2-40db-81f6-996c66054fe0",
   "metadata": {},
   "outputs": [],
   "source": [
    "# Exercise 8 - Create a code cell to multiply and add numbers\n",
    "# This is a sample arithmetic expression to multiply then add integers. "
   ]
  },
  {
   "cell_type": "code",
   "execution_count": 64,
   "id": "54346021-45a7-4584-b08d-3d008447a226",
   "metadata": {},
   "outputs": [
    {
     "data": {
      "text/plain": [
       "17"
      ]
     },
     "execution_count": 64,
     "metadata": {},
     "output_type": "execute_result"
    }
   ],
   "source": [
    "(3*4)+5"
   ]
  },
  {
   "cell_type": "code",
   "execution_count": 70,
   "id": "b888a0aa-8453-47cb-a3c1-2c8f55734253",
   "metadata": {},
   "outputs": [],
   "source": [
    "# Exercise 9 - Create a code cell to convert minutes to hours\n",
    "# This will convert 200 minutes to hours by dividing 60. "
   ]
  },
  {
   "cell_type": "code",
   "execution_count": 72,
   "id": "22f2f8fe-0cd2-4de6-b50c-be31f33970d8",
   "metadata": {},
   "outputs": [
    {
     "data": {
      "text/plain": [
       "3.3333333333333335"
      ]
     },
     "execution_count": 72,
     "metadata": {},
     "output_type": "execute_result"
    }
   ],
   "source": [
    "200/60"
   ]
  },
  {
   "cell_type": "code",
   "execution_count": 74,
   "id": "8c09f272-d93a-4f35-a21e-fd5fb1d9edb1",
   "metadata": {},
   "outputs": [],
   "source": [
    "# Exercise 10 - Insert a markdown cell to list Objectives"
   ]
  },
  {
   "cell_type": "markdown",
   "id": "5fe4ff43-9534-4128-ab7d-569e6bf08825",
   "metadata": {},
   "source": [
    "In this notebook, Data Science Tools and Ecosystem are summarized. "
   ]
  },
  {
   "cell_type": "markdown",
   "id": "26b58c1f-1b57-4fc8-990a-bf0b3d6c40cb",
   "metadata": {},
   "source": [
    "**Objectives:**\n",
    "+ List popular languages for Data Science.\n",
    "+ List of Open Source, Commercial, and Cloud based tools in various categories. \n",
    "+ Components of Data Scientist's toolkit and list various tool categories.\n",
    "+ Languages of Data Science.\n",
    "+ Packages, APIs, Data Sets and Models. "
   ]
  },
  {
   "cell_type": "code",
   "execution_count": 92,
   "id": "3cf2c42f-6944-42db-93c3-6cea5f78f7ff",
   "metadata": {},
   "outputs": [],
   "source": [
    "# Exercise 11 - Create a markdown cell to indicate the Author's name.\n",
    "# In this markdown cell markdown cell include the following text Author in H2 style heading. Include your name as regular text below the word Author."
   ]
  },
  {
   "cell_type": "markdown",
   "id": "cf4edaba-4114-414d-b13b-2cf239ee4c14",
   "metadata": {},
   "source": [
    "## Author\n",
    "Asker Alshanbayev"
   ]
  },
  {
   "cell_type": "code",
   "execution_count": null,
   "id": "e6f4164c-40ea-4e75-820b-d1e4582730e8",
   "metadata": {},
   "outputs": [],
   "source": []
  }
 ],
 "metadata": {
  "kernelspec": {
   "display_name": "Python 3 (ipykernel)",
   "language": "python",
   "name": "python3"
  },
  "language_info": {
   "codemirror_mode": {
    "name": "ipython",
    "version": 3
   },
   "file_extension": ".py",
   "mimetype": "text/x-python",
   "name": "python",
   "nbconvert_exporter": "python",
   "pygments_lexer": "ipython3",
   "version": "3.11.7"
  }
 },
 "nbformat": 4,
 "nbformat_minor": 5
}
